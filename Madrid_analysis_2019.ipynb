{
 "cells": [
  {
   "cell_type": "markdown",
   "metadata": {},
   "source": [
    "# COVID-19 and Airbnb activity\n",
    "## Case study: Madrid"
   ]
  },
  {
   "cell_type": "markdown",
   "metadata": {},
   "source": [
    ">  Let's take a look at how the COVID-19 situation is affecting the Airbnb activity in one of the hotspots of the pandemic: Madrid"
   ]
  },
  {
   "cell_type": "markdown",
   "metadata": {},
   "source": [
    "The data is taken from http://insideairbnb.com/get-the-data.html . This data is already very clean."
   ]
  },
  {
   "cell_type": "code",
   "execution_count": 13,
   "metadata": {},
   "outputs": [],
   "source": [
    "import pandas as pd\n",
    "import matplotlib.pyplot as plt\n",
    "import seaborn as sns\n",
    "%matplotlib inline\n",
    "sns.set()"
   ]
  },
  {
   "cell_type": "markdown",
   "metadata": {},
   "source": [
    "**Gathering data**"
   ]
  },
  {
   "cell_type": "code",
   "execution_count": 14,
   "metadata": {},
   "outputs": [],
   "source": [
    "df_mar = pd.read_csv('calendar_madrid_2019_8_3.csv') #march data on bookings\n",
    "df_feb = pd.read_csv('calendar_madrid_2019_6_2.csv') #february data on bookings\n",
    "#apt_mar = pd.read_csv('listings_17_3.csv') #march data on properties\n",
    "#apt_feb = pd.read_csv('listings_18_2.csv') #february data propierties"
   ]
  },
  {
   "cell_type": "markdown",
   "metadata": {},
   "source": [
    "**Assesing data**"
   ]
  },
  {
   "cell_type": "markdown",
   "metadata": {},
   "source": [
    "Let's take a look on the data\n",
    "- df dataframes:"
   ]
  },
  {
   "cell_type": "code",
   "execution_count": 3,
   "metadata": {},
   "outputs": [
    {
     "data": {
      "text/plain": [
       "((8092050, 7), (7973425, 7))"
      ]
     },
     "execution_count": 3,
     "metadata": {},
     "output_type": "execute_result"
    }
   ],
   "source": [
    "df_mar.shape, df_feb.shape"
   ]
  },
  {
   "cell_type": "code",
   "execution_count": 4,
   "metadata": {},
   "outputs": [
    {
     "data": {
      "text/plain": [
       "Index(['listing_id', 'date', 'available', 'price', 'adjusted_price',\n",
       "       'minimum_nights', 'maximum_nights'],\n",
       "      dtype='object')"
      ]
     },
     "execution_count": 4,
     "metadata": {},
     "output_type": "execute_result"
    }
   ],
   "source": [
    "df_mar.columns"
   ]
  },
  {
   "cell_type": "code",
   "execution_count": 5,
   "metadata": {},
   "outputs": [
    {
     "data": {
      "text/html": [
       "<div>\n",
       "<style scoped>\n",
       "    .dataframe tbody tr th:only-of-type {\n",
       "        vertical-align: middle;\n",
       "    }\n",
       "\n",
       "    .dataframe tbody tr th {\n",
       "        vertical-align: top;\n",
       "    }\n",
       "\n",
       "    .dataframe thead th {\n",
       "        text-align: right;\n",
       "    }\n",
       "</style>\n",
       "<table border=\"1\" class=\"dataframe\">\n",
       "  <thead>\n",
       "    <tr style=\"text-align: right;\">\n",
       "      <th></th>\n",
       "      <th>listing_id</th>\n",
       "      <th>date</th>\n",
       "      <th>available</th>\n",
       "      <th>price</th>\n",
       "      <th>adjusted_price</th>\n",
       "      <th>minimum_nights</th>\n",
       "      <th>maximum_nights</th>\n",
       "    </tr>\n",
       "  </thead>\n",
       "  <tbody>\n",
       "    <tr>\n",
       "      <th>0</th>\n",
       "      <td>374558</td>\n",
       "      <td>2020-03-17</td>\n",
       "      <td>f</td>\n",
       "      <td>$53.00</td>\n",
       "      <td>$53.00</td>\n",
       "      <td>1</td>\n",
       "      <td>31</td>\n",
       "    </tr>\n",
       "    <tr>\n",
       "      <th>1</th>\n",
       "      <td>102091</td>\n",
       "      <td>2020-03-17</td>\n",
       "      <td>t</td>\n",
       "      <td>$194.00</td>\n",
       "      <td>$194.00</td>\n",
       "      <td>3</td>\n",
       "      <td>30</td>\n",
       "    </tr>\n",
       "    <tr>\n",
       "      <th>2</th>\n",
       "      <td>102091</td>\n",
       "      <td>2020-03-18</td>\n",
       "      <td>t</td>\n",
       "      <td>$194.00</td>\n",
       "      <td>$194.00</td>\n",
       "      <td>3</td>\n",
       "      <td>30</td>\n",
       "    </tr>\n",
       "    <tr>\n",
       "      <th>3</th>\n",
       "      <td>102091</td>\n",
       "      <td>2020-03-19</td>\n",
       "      <td>t</td>\n",
       "      <td>$194.00</td>\n",
       "      <td>$194.00</td>\n",
       "      <td>3</td>\n",
       "      <td>30</td>\n",
       "    </tr>\n",
       "    <tr>\n",
       "      <th>4</th>\n",
       "      <td>102091</td>\n",
       "      <td>2020-03-20</td>\n",
       "      <td>t</td>\n",
       "      <td>$275.00</td>\n",
       "      <td>$275.00</td>\n",
       "      <td>3</td>\n",
       "      <td>30</td>\n",
       "    </tr>\n",
       "  </tbody>\n",
       "</table>\n",
       "</div>"
      ],
      "text/plain": [
       "   listing_id        date available    price adjusted_price  minimum_nights  \\\n",
       "0      374558  2020-03-17         f   $53.00         $53.00               1   \n",
       "1      102091  2020-03-17         t  $194.00        $194.00               3   \n",
       "2      102091  2020-03-18         t  $194.00        $194.00               3   \n",
       "3      102091  2020-03-19         t  $194.00        $194.00               3   \n",
       "4      102091  2020-03-20         t  $275.00        $275.00               3   \n",
       "\n",
       "   maximum_nights  \n",
       "0              31  \n",
       "1              30  \n",
       "2              30  \n",
       "3              30  \n",
       "4              30  "
      ]
     },
     "execution_count": 5,
     "metadata": {},
     "output_type": "execute_result"
    }
   ],
   "source": [
    "df_mar.head()"
   ]
  },
  {
   "cell_type": "markdown",
   "metadata": {},
   "source": [
    "- apt dataframes:"
   ]
  },
  {
   "cell_type": "code",
   "execution_count": 7,
   "metadata": {},
   "outputs": [
    {
     "data": {
      "text/plain": [
       "((22170, 16), (21845, 16))"
      ]
     },
     "execution_count": 7,
     "metadata": {},
     "output_type": "execute_result"
    }
   ],
   "source": [
    "apt_mar.shape, apt_feb.shape"
   ]
  },
  {
   "cell_type": "code",
   "execution_count": 8,
   "metadata": {},
   "outputs": [
    {
     "data": {
      "text/plain": [
       "Index(['id', 'name', 'host_id', 'host_name', 'neighbourhood_group',\n",
       "       'neighbourhood', 'latitude', 'longitude', 'room_type', 'price',\n",
       "       'minimum_nights', 'number_of_reviews', 'last_review',\n",
       "       'reviews_per_month', 'calculated_host_listings_count',\n",
       "       'availability_365'],\n",
       "      dtype='object')"
      ]
     },
     "execution_count": 8,
     "metadata": {},
     "output_type": "execute_result"
    }
   ],
   "source": [
    "apt_mar.columns"
   ]
  },
  {
   "cell_type": "code",
   "execution_count": 9,
   "metadata": {},
   "outputs": [
    {
     "data": {
      "text/html": [
       "<div>\n",
       "<style scoped>\n",
       "    .dataframe tbody tr th:only-of-type {\n",
       "        vertical-align: middle;\n",
       "    }\n",
       "\n",
       "    .dataframe tbody tr th {\n",
       "        vertical-align: top;\n",
       "    }\n",
       "\n",
       "    .dataframe thead th {\n",
       "        text-align: right;\n",
       "    }\n",
       "</style>\n",
       "<table border=\"1\" class=\"dataframe\">\n",
       "  <thead>\n",
       "    <tr style=\"text-align: right;\">\n",
       "      <th></th>\n",
       "      <th>id</th>\n",
       "      <th>name</th>\n",
       "      <th>host_id</th>\n",
       "      <th>host_name</th>\n",
       "      <th>neighbourhood_group</th>\n",
       "      <th>neighbourhood</th>\n",
       "      <th>latitude</th>\n",
       "      <th>longitude</th>\n",
       "      <th>room_type</th>\n",
       "      <th>price</th>\n",
       "      <th>minimum_nights</th>\n",
       "      <th>number_of_reviews</th>\n",
       "      <th>last_review</th>\n",
       "      <th>reviews_per_month</th>\n",
       "      <th>calculated_host_listings_count</th>\n",
       "      <th>availability_365</th>\n",
       "    </tr>\n",
       "  </thead>\n",
       "  <tbody>\n",
       "    <tr>\n",
       "      <th>0</th>\n",
       "      <td>6369</td>\n",
       "      <td>Rooftop terrace room ,  ensuite bathroom</td>\n",
       "      <td>13660</td>\n",
       "      <td>Simon</td>\n",
       "      <td>Chamartín</td>\n",
       "      <td>Hispanoamérica</td>\n",
       "      <td>40.45724</td>\n",
       "      <td>-3.67688</td>\n",
       "      <td>Private room</td>\n",
       "      <td>70</td>\n",
       "      <td>1</td>\n",
       "      <td>75</td>\n",
       "      <td>2020-02-29</td>\n",
       "      <td>0.62</td>\n",
       "      <td>1</td>\n",
       "      <td>76</td>\n",
       "    </tr>\n",
       "    <tr>\n",
       "      <th>1</th>\n",
       "      <td>21853</td>\n",
       "      <td>Bright and airy room</td>\n",
       "      <td>83531</td>\n",
       "      <td>Abdel</td>\n",
       "      <td>Latina</td>\n",
       "      <td>Cármenes</td>\n",
       "      <td>40.40341</td>\n",
       "      <td>-3.74084</td>\n",
       "      <td>Private room</td>\n",
       "      <td>30</td>\n",
       "      <td>4</td>\n",
       "      <td>33</td>\n",
       "      <td>2018-07-15</td>\n",
       "      <td>0.50</td>\n",
       "      <td>2</td>\n",
       "      <td>228</td>\n",
       "    </tr>\n",
       "    <tr>\n",
       "      <th>2</th>\n",
       "      <td>23001</td>\n",
       "      <td>Apartmento Arganzuela- Madrid Rio</td>\n",
       "      <td>82175</td>\n",
       "      <td>Jesus</td>\n",
       "      <td>Arganzuela</td>\n",
       "      <td>Legazpi</td>\n",
       "      <td>40.38695</td>\n",
       "      <td>-3.69304</td>\n",
       "      <td>Entire home/apt</td>\n",
       "      <td>50</td>\n",
       "      <td>15</td>\n",
       "      <td>0</td>\n",
       "      <td>NaN</td>\n",
       "      <td>NaN</td>\n",
       "      <td>6</td>\n",
       "      <td>277</td>\n",
       "    </tr>\n",
       "    <tr>\n",
       "      <th>3</th>\n",
       "      <td>24805</td>\n",
       "      <td>Gran Via Studio Madrid</td>\n",
       "      <td>101471</td>\n",
       "      <td>Iraido</td>\n",
       "      <td>Centro</td>\n",
       "      <td>Universidad</td>\n",
       "      <td>40.42202</td>\n",
       "      <td>-3.70395</td>\n",
       "      <td>Entire home/apt</td>\n",
       "      <td>89</td>\n",
       "      <td>4</td>\n",
       "      <td>10</td>\n",
       "      <td>2020-03-01</td>\n",
       "      <td>0.15</td>\n",
       "      <td>1</td>\n",
       "      <td>335</td>\n",
       "    </tr>\n",
       "    <tr>\n",
       "      <th>4</th>\n",
       "      <td>24836</td>\n",
       "      <td>Select the Madrid more \"cool\".</td>\n",
       "      <td>101653</td>\n",
       "      <td>Tenty</td>\n",
       "      <td>Centro</td>\n",
       "      <td>Justicia</td>\n",
       "      <td>40.41995</td>\n",
       "      <td>-3.69764</td>\n",
       "      <td>Entire home/apt</td>\n",
       "      <td>115</td>\n",
       "      <td>3</td>\n",
       "      <td>68</td>\n",
       "      <td>2020-01-26</td>\n",
       "      <td>0.64</td>\n",
       "      <td>1</td>\n",
       "      <td>327</td>\n",
       "    </tr>\n",
       "  </tbody>\n",
       "</table>\n",
       "</div>"
      ],
      "text/plain": [
       "      id                                      name  host_id host_name  \\\n",
       "0   6369  Rooftop terrace room ,  ensuite bathroom    13660     Simon   \n",
       "1  21853                      Bright and airy room    83531     Abdel   \n",
       "2  23001         Apartmento Arganzuela- Madrid Rio    82175     Jesus   \n",
       "3  24805                    Gran Via Studio Madrid   101471    Iraido   \n",
       "4  24836            Select the Madrid more \"cool\".   101653     Tenty   \n",
       "\n",
       "  neighbourhood_group   neighbourhood  latitude  longitude        room_type  \\\n",
       "0           Chamartín  Hispanoamérica  40.45724   -3.67688     Private room   \n",
       "1              Latina        Cármenes  40.40341   -3.74084     Private room   \n",
       "2          Arganzuela         Legazpi  40.38695   -3.69304  Entire home/apt   \n",
       "3              Centro     Universidad  40.42202   -3.70395  Entire home/apt   \n",
       "4              Centro        Justicia  40.41995   -3.69764  Entire home/apt   \n",
       "\n",
       "   price  minimum_nights  number_of_reviews last_review  reviews_per_month  \\\n",
       "0     70               1                 75  2020-02-29               0.62   \n",
       "1     30               4                 33  2018-07-15               0.50   \n",
       "2     50              15                  0         NaN                NaN   \n",
       "3     89               4                 10  2020-03-01               0.15   \n",
       "4    115               3                 68  2020-01-26               0.64   \n",
       "\n",
       "   calculated_host_listings_count  availability_365  \n",
       "0                               1                76  \n",
       "1                               2               228  \n",
       "2                               6               277  \n",
       "3                               1               335  \n",
       "4                               1               327  "
      ]
     },
     "execution_count": 9,
     "metadata": {},
     "output_type": "execute_result"
    }
   ],
   "source": [
    "apt_mar.head()"
   ]
  },
  {
   "cell_type": "markdown",
   "metadata": {},
   "source": [
    "### Q1: How did the bookings change with the pandemic?"
   ]
  },
  {
   "cell_type": "markdown",
   "metadata": {},
   "source": [
    "> We have a year booking data from Feb 18th and from march 17th. Between these two dates the COVID was declared a pandemic by the WHO (3/11) and Madrid went on quarantine (14/3)."
   ]
  },
  {
   "cell_type": "markdown",
   "metadata": {},
   "source": [
    "Let's take a quick look on how the bookings change"
   ]
  },
  {
   "cell_type": "code",
   "execution_count": 13,
   "metadata": {},
   "outputs": [
    {
     "data": {
      "text/plain": [
       "f    4402244\n",
       "t    3571181\n",
       "Name: available, dtype: int64"
      ]
     },
     "execution_count": 13,
     "metadata": {},
     "output_type": "execute_result"
    }
   ],
   "source": [
    "df_feb.available.value_counts()  #f -> False: not available, t -> True: available"
   ]
  },
  {
   "cell_type": "code",
   "execution_count": 12,
   "metadata": {},
   "outputs": [
    {
     "data": {
      "text/plain": [
       "f    4297525\n",
       "t    3794525\n",
       "Name: available, dtype: int64"
      ]
     },
     "execution_count": 12,
     "metadata": {},
     "output_type": "execute_result"
    }
   ],
   "source": [
    "df_mar.available.value_counts()"
   ]
  },
  {
   "cell_type": "markdown",
   "metadata": {},
   "source": [
    "The number of available places and dates increases a 6% but we need to take a more careful look at this to make a fair comparision. We merge the two data sets in order to keep only the places and the dates with information in both data sets."
   ]
  },
  {
   "cell_type": "code",
   "execution_count": 15,
   "metadata": {},
   "outputs": [],
   "source": [
    "df = df_feb.merge(df_mar, on=['listing_id', 'date'], suffixes=['_feb','_mar'])"
   ]
  },
  {
   "cell_type": "code",
   "execution_count": 16,
   "metadata": {},
   "outputs": [
    {
     "data": {
      "text/html": [
       "<div>\n",
       "<style scoped>\n",
       "    .dataframe tbody tr th:only-of-type {\n",
       "        vertical-align: middle;\n",
       "    }\n",
       "\n",
       "    .dataframe tbody tr th {\n",
       "        vertical-align: top;\n",
       "    }\n",
       "\n",
       "    .dataframe thead th {\n",
       "        text-align: right;\n",
       "    }\n",
       "</style>\n",
       "<table border=\"1\" class=\"dataframe\">\n",
       "  <thead>\n",
       "    <tr style=\"text-align: right;\">\n",
       "      <th></th>\n",
       "      <th>listing_id</th>\n",
       "      <th>date</th>\n",
       "      <th>available_feb</th>\n",
       "      <th>price_feb</th>\n",
       "      <th>adjusted_price_feb</th>\n",
       "      <th>minimum_nights_feb</th>\n",
       "      <th>maximum_nights_feb</th>\n",
       "      <th>available_mar</th>\n",
       "      <th>price_mar</th>\n",
       "      <th>adjusted_price_mar</th>\n",
       "      <th>minimum_nights_mar</th>\n",
       "      <th>maximum_nights_mar</th>\n",
       "    </tr>\n",
       "  </thead>\n",
       "  <tbody>\n",
       "    <tr>\n",
       "      <th>0</th>\n",
       "      <td>470132</td>\n",
       "      <td>2020-03-17</td>\n",
       "      <td>t</td>\n",
       "      <td>$83.00</td>\n",
       "      <td>$83.00</td>\n",
       "      <td>3</td>\n",
       "      <td>1125</td>\n",
       "      <td>t</td>\n",
       "      <td>$83.00</td>\n",
       "      <td>$75.00</td>\n",
       "      <td>3</td>\n",
       "      <td>1125</td>\n",
       "    </tr>\n",
       "    <tr>\n",
       "      <th>1</th>\n",
       "      <td>470132</td>\n",
       "      <td>2020-03-18</td>\n",
       "      <td>f</td>\n",
       "      <td>$83.00</td>\n",
       "      <td>$83.00</td>\n",
       "      <td>3</td>\n",
       "      <td>1125</td>\n",
       "      <td>t</td>\n",
       "      <td>$83.00</td>\n",
       "      <td>$75.00</td>\n",
       "      <td>3</td>\n",
       "      <td>1125</td>\n",
       "    </tr>\n",
       "    <tr>\n",
       "      <th>2</th>\n",
       "      <td>470132</td>\n",
       "      <td>2020-03-19</td>\n",
       "      <td>f</td>\n",
       "      <td>$83.00</td>\n",
       "      <td>$83.00</td>\n",
       "      <td>3</td>\n",
       "      <td>1125</td>\n",
       "      <td>t</td>\n",
       "      <td>$83.00</td>\n",
       "      <td>$75.00</td>\n",
       "      <td>3</td>\n",
       "      <td>1125</td>\n",
       "    </tr>\n",
       "    <tr>\n",
       "      <th>3</th>\n",
       "      <td>470132</td>\n",
       "      <td>2020-03-20</td>\n",
       "      <td>f</td>\n",
       "      <td>$83.00</td>\n",
       "      <td>$83.00</td>\n",
       "      <td>3</td>\n",
       "      <td>1125</td>\n",
       "      <td>t</td>\n",
       "      <td>$83.00</td>\n",
       "      <td>$75.00</td>\n",
       "      <td>3</td>\n",
       "      <td>1125</td>\n",
       "    </tr>\n",
       "    <tr>\n",
       "      <th>4</th>\n",
       "      <td>470132</td>\n",
       "      <td>2020-03-21</td>\n",
       "      <td>f</td>\n",
       "      <td>$83.00</td>\n",
       "      <td>$83.00</td>\n",
       "      <td>3</td>\n",
       "      <td>1125</td>\n",
       "      <td>t</td>\n",
       "      <td>$83.00</td>\n",
       "      <td>$75.00</td>\n",
       "      <td>3</td>\n",
       "      <td>1125</td>\n",
       "    </tr>\n",
       "  </tbody>\n",
       "</table>\n",
       "</div>"
      ],
      "text/plain": [
       "   listing_id        date available_feb price_feb adjusted_price_feb  \\\n",
       "0      470132  2020-03-17             t    $83.00             $83.00   \n",
       "1      470132  2020-03-18             f    $83.00             $83.00   \n",
       "2      470132  2020-03-19             f    $83.00             $83.00   \n",
       "3      470132  2020-03-20             f    $83.00             $83.00   \n",
       "4      470132  2020-03-21             f    $83.00             $83.00   \n",
       "\n",
       "   minimum_nights_feb  maximum_nights_feb available_mar price_mar  \\\n",
       "0                   3                1125             t    $83.00   \n",
       "1                   3                1125             t    $83.00   \n",
       "2                   3                1125             t    $83.00   \n",
       "3                   3                1125             t    $83.00   \n",
       "4                   3                1125             t    $83.00   \n",
       "\n",
       "  adjusted_price_mar  minimum_nights_mar  maximum_nights_mar  \n",
       "0             $75.00                   3                1125  \n",
       "1             $75.00                   3                1125  \n",
       "2             $75.00                   3                1125  \n",
       "3             $75.00                   3                1125  \n",
       "4             $75.00                   3                1125  "
      ]
     },
     "execution_count": 16,
     "metadata": {},
     "output_type": "execute_result"
    }
   ],
   "source": [
    "df.head()"
   ]
  },
  {
   "cell_type": "code",
   "execution_count": 17,
   "metadata": {},
   "outputs": [
    {
     "data": {
      "text/plain": [
       "listing_id             int64\n",
       "date                  object\n",
       "available_feb         object\n",
       "price_feb             object\n",
       "adjusted_price_feb    object\n",
       "minimum_nights_feb     int64\n",
       "maximum_nights_feb     int64\n",
       "available_mar         object\n",
       "price_mar             object\n",
       "adjusted_price_mar    object\n",
       "minimum_nights_mar     int64\n",
       "maximum_nights_mar     int64\n",
       "dtype: object"
      ]
     },
     "execution_count": 17,
     "metadata": {},
     "output_type": "execute_result"
    }
   ],
   "source": [
    "df.dtypes"
   ]
  },
  {
   "cell_type": "markdown",
   "metadata": {},
   "source": [
    "There are some wrong dtypes. We want to have booleans for the available columns and float for the price columns. Also the date column is not datetime dtype."
   ]
  },
  {
   "cell_type": "markdown",
   "metadata": {},
   "source": [
    "**Cleaning data**"
   ]
  },
  {
   "cell_type": "code",
   "execution_count": 16,
   "metadata": {},
   "outputs": [],
   "source": [
    "df['date'] = pd.to_datetime(df.date)\n",
    "df[['available_feb','available_mar']] = df[['available_feb','available_mar']].replace({'f':0,'t':1}).astype('bool')\n",
    "prices = ['price_feb','adjusted_price_feb','price_mar','adjusted_price_mar']\n",
    "for col in prices:\n",
    "    df[col] = df[col].str.replace('$','').str.replace(',','').astype('float')"
   ]
  },
  {
   "cell_type": "code",
   "execution_count": 22,
   "metadata": {},
   "outputs": [
    {
     "data": {
      "text/plain": [
       "listing_id                     int64\n",
       "date                  datetime64[ns]\n",
       "available_feb                   bool\n",
       "price_feb                    float64\n",
       "adjusted_price_feb           float64\n",
       "minimum_nights_feb             int64\n",
       "maximum_nights_feb             int64\n",
       "available_mar                   bool\n",
       "price_mar                    float64\n",
       "adjusted_price_mar           float64\n",
       "minimum_nights_mar             int64\n",
       "maximum_nights_mar             int64\n",
       "dtype: object"
      ]
     },
     "execution_count": 22,
     "metadata": {},
     "output_type": "execute_result"
    }
   ],
   "source": [
    "df.dtypes"
   ]
  },
  {
   "cell_type": "code",
   "execution_count": 23,
   "metadata": {},
   "outputs": [
    {
     "data": {
      "text/html": [
       "<div>\n",
       "<style scoped>\n",
       "    .dataframe tbody tr th:only-of-type {\n",
       "        vertical-align: middle;\n",
       "    }\n",
       "\n",
       "    .dataframe tbody tr th {\n",
       "        vertical-align: top;\n",
       "    }\n",
       "\n",
       "    .dataframe thead th {\n",
       "        text-align: right;\n",
       "    }\n",
       "</style>\n",
       "<table border=\"1\" class=\"dataframe\">\n",
       "  <thead>\n",
       "    <tr style=\"text-align: right;\">\n",
       "      <th></th>\n",
       "      <th>listing_id</th>\n",
       "      <th>date</th>\n",
       "      <th>available_feb</th>\n",
       "      <th>price_feb</th>\n",
       "      <th>adjusted_price_feb</th>\n",
       "      <th>minimum_nights_feb</th>\n",
       "      <th>maximum_nights_feb</th>\n",
       "      <th>available_mar</th>\n",
       "      <th>price_mar</th>\n",
       "      <th>adjusted_price_mar</th>\n",
       "      <th>minimum_nights_mar</th>\n",
       "      <th>maximum_nights_mar</th>\n",
       "    </tr>\n",
       "  </thead>\n",
       "  <tbody>\n",
       "    <tr>\n",
       "      <th>0</th>\n",
       "      <td>470132</td>\n",
       "      <td>2020-03-17</td>\n",
       "      <td>True</td>\n",
       "      <td>83.0</td>\n",
       "      <td>83.0</td>\n",
       "      <td>3</td>\n",
       "      <td>1125</td>\n",
       "      <td>True</td>\n",
       "      <td>83.0</td>\n",
       "      <td>75.0</td>\n",
       "      <td>3</td>\n",
       "      <td>1125</td>\n",
       "    </tr>\n",
       "    <tr>\n",
       "      <th>1</th>\n",
       "      <td>470132</td>\n",
       "      <td>2020-03-18</td>\n",
       "      <td>False</td>\n",
       "      <td>83.0</td>\n",
       "      <td>83.0</td>\n",
       "      <td>3</td>\n",
       "      <td>1125</td>\n",
       "      <td>True</td>\n",
       "      <td>83.0</td>\n",
       "      <td>75.0</td>\n",
       "      <td>3</td>\n",
       "      <td>1125</td>\n",
       "    </tr>\n",
       "    <tr>\n",
       "      <th>2</th>\n",
       "      <td>470132</td>\n",
       "      <td>2020-03-19</td>\n",
       "      <td>False</td>\n",
       "      <td>83.0</td>\n",
       "      <td>83.0</td>\n",
       "      <td>3</td>\n",
       "      <td>1125</td>\n",
       "      <td>True</td>\n",
       "      <td>83.0</td>\n",
       "      <td>75.0</td>\n",
       "      <td>3</td>\n",
       "      <td>1125</td>\n",
       "    </tr>\n",
       "    <tr>\n",
       "      <th>3</th>\n",
       "      <td>470132</td>\n",
       "      <td>2020-03-20</td>\n",
       "      <td>False</td>\n",
       "      <td>83.0</td>\n",
       "      <td>83.0</td>\n",
       "      <td>3</td>\n",
       "      <td>1125</td>\n",
       "      <td>True</td>\n",
       "      <td>83.0</td>\n",
       "      <td>75.0</td>\n",
       "      <td>3</td>\n",
       "      <td>1125</td>\n",
       "    </tr>\n",
       "    <tr>\n",
       "      <th>4</th>\n",
       "      <td>470132</td>\n",
       "      <td>2020-03-21</td>\n",
       "      <td>False</td>\n",
       "      <td>83.0</td>\n",
       "      <td>83.0</td>\n",
       "      <td>3</td>\n",
       "      <td>1125</td>\n",
       "      <td>True</td>\n",
       "      <td>83.0</td>\n",
       "      <td>75.0</td>\n",
       "      <td>3</td>\n",
       "      <td>1125</td>\n",
       "    </tr>\n",
       "  </tbody>\n",
       "</table>\n",
       "</div>"
      ],
      "text/plain": [
       "   listing_id       date  available_feb  price_feb  adjusted_price_feb  \\\n",
       "0      470132 2020-03-17           True       83.0                83.0   \n",
       "1      470132 2020-03-18          False       83.0                83.0   \n",
       "2      470132 2020-03-19          False       83.0                83.0   \n",
       "3      470132 2020-03-20          False       83.0                83.0   \n",
       "4      470132 2020-03-21          False       83.0                83.0   \n",
       "\n",
       "   minimum_nights_feb  maximum_nights_feb  available_mar  price_mar  \\\n",
       "0                   3                1125           True       83.0   \n",
       "1                   3                1125           True       83.0   \n",
       "2                   3                1125           True       83.0   \n",
       "3                   3                1125           True       83.0   \n",
       "4                   3                1125           True       83.0   \n",
       "\n",
       "   adjusted_price_mar  minimum_nights_mar  maximum_nights_mar  \n",
       "0                75.0                   3                1125  \n",
       "1                75.0                   3                1125  \n",
       "2                75.0                   3                1125  \n",
       "3                75.0                   3                1125  \n",
       "4                75.0                   3                1125  "
      ]
     },
     "execution_count": 23,
     "metadata": {},
     "output_type": "execute_result"
    }
   ],
   "source": [
    "df.head()"
   ]
  },
  {
   "cell_type": "code",
   "execution_count": 17,
   "metadata": {},
   "outputs": [],
   "source": [
    "# period column to group by month-year\n",
    "df['Period']=df['date'].dt.to_period('M')"
   ]
  },
  {
   "cell_type": "markdown",
   "metadata": {},
   "source": [
    "**Analysing data**"
   ]
  },
  {
   "cell_type": "code",
   "execution_count": 18,
   "metadata": {},
   "outputs": [],
   "source": [
    "# How many available places are by month according to Feb and March data\n",
    "available = df.groupby(['Period'],as_index=True)[['available_feb','available_mar']].sum()"
   ]
  },
  {
   "cell_type": "code",
   "execution_count": 27,
   "metadata": {},
   "outputs": [
    {
     "data": {
      "text/html": [
       "<div>\n",
       "<style scoped>\n",
       "    .dataframe tbody tr th:only-of-type {\n",
       "        vertical-align: middle;\n",
       "    }\n",
       "\n",
       "    .dataframe tbody tr th {\n",
       "        vertical-align: top;\n",
       "    }\n",
       "\n",
       "    .dataframe thead th {\n",
       "        text-align: right;\n",
       "    }\n",
       "</style>\n",
       "<table border=\"1\" class=\"dataframe\">\n",
       "  <thead>\n",
       "    <tr style=\"text-align: right;\">\n",
       "      <th></th>\n",
       "      <th>available_feb</th>\n",
       "      <th>available_mar</th>\n",
       "    </tr>\n",
       "    <tr>\n",
       "      <th>Period</th>\n",
       "      <th></th>\n",
       "      <th></th>\n",
       "    </tr>\n",
       "  </thead>\n",
       "  <tbody>\n",
       "    <tr>\n",
       "      <th>2020-03</th>\n",
       "      <td>140894.0</td>\n",
       "      <td>163046.0</td>\n",
       "    </tr>\n",
       "    <tr>\n",
       "      <th>2020-04</th>\n",
       "      <td>307840.0</td>\n",
       "      <td>338817.0</td>\n",
       "    </tr>\n",
       "    <tr>\n",
       "      <th>2020-05</th>\n",
       "      <td>328398.0</td>\n",
       "      <td>347744.0</td>\n",
       "    </tr>\n",
       "    <tr>\n",
       "      <th>2020-06</th>\n",
       "      <td>318292.0</td>\n",
       "      <td>342588.0</td>\n",
       "    </tr>\n",
       "    <tr>\n",
       "      <th>2020-07</th>\n",
       "      <td>335026.0</td>\n",
       "      <td>330180.0</td>\n",
       "    </tr>\n",
       "    <tr>\n",
       "      <th>2020-08</th>\n",
       "      <td>318705.0</td>\n",
       "      <td>351270.0</td>\n",
       "    </tr>\n",
       "    <tr>\n",
       "      <th>2020-09</th>\n",
       "      <td>264709.0</td>\n",
       "      <td>288385.0</td>\n",
       "    </tr>\n",
       "    <tr>\n",
       "      <th>2020-10</th>\n",
       "      <td>273046.0</td>\n",
       "      <td>270056.0</td>\n",
       "    </tr>\n",
       "    <tr>\n",
       "      <th>2020-11</th>\n",
       "      <td>258350.0</td>\n",
       "      <td>261969.0</td>\n",
       "    </tr>\n",
       "    <tr>\n",
       "      <th>2020-12</th>\n",
       "      <td>256276.0</td>\n",
       "      <td>255274.0</td>\n",
       "    </tr>\n",
       "    <tr>\n",
       "      <th>2021-01</th>\n",
       "      <td>245503.0</td>\n",
       "      <td>241472.0</td>\n",
       "    </tr>\n",
       "    <tr>\n",
       "      <th>2021-02</th>\n",
       "      <td>127813.0</td>\n",
       "      <td>125236.0</td>\n",
       "    </tr>\n",
       "  </tbody>\n",
       "</table>\n",
       "</div>"
      ],
      "text/plain": [
       "         available_feb  available_mar\n",
       "Period                               \n",
       "2020-03       140894.0       163046.0\n",
       "2020-04       307840.0       338817.0\n",
       "2020-05       328398.0       347744.0\n",
       "2020-06       318292.0       342588.0\n",
       "2020-07       335026.0       330180.0\n",
       "2020-08       318705.0       351270.0\n",
       "2020-09       264709.0       288385.0\n",
       "2020-10       273046.0       270056.0\n",
       "2020-11       258350.0       261969.0\n",
       "2020-12       256276.0       255274.0\n",
       "2021-01       245503.0       241472.0\n",
       "2021-02       127813.0       125236.0"
      ]
     },
     "execution_count": 27,
     "metadata": {},
     "output_type": "execute_result"
    }
   ],
   "source": [
    "available"
   ]
  },
  {
   "cell_type": "markdown",
   "metadata": {},
   "source": [
    "Note: 2020-03 and 2021-02 has less days of data and that's why the sum is smaller."
   ]
  },
  {
   "cell_type": "markdown",
   "metadata": {},
   "source": [
    "We want to have the occupation rate because is more clear and easier to understand:"
   ]
  },
  {
   "cell_type": "code",
   "execution_count": 19,
   "metadata": {},
   "outputs": [
    {
     "data": {
      "text/html": [
       "<div>\n",
       "<style scoped>\n",
       "    .dataframe tbody tr th:only-of-type {\n",
       "        vertical-align: middle;\n",
       "    }\n",
       "\n",
       "    .dataframe tbody tr th {\n",
       "        vertical-align: top;\n",
       "    }\n",
       "\n",
       "    .dataframe thead th {\n",
       "        text-align: right;\n",
       "    }\n",
       "</style>\n",
       "<table border=\"1\" class=\"dataframe\">\n",
       "  <thead>\n",
       "    <tr style=\"text-align: right;\">\n",
       "      <th></th>\n",
       "      <th>available_feb</th>\n",
       "      <th>available_mar</th>\n",
       "    </tr>\n",
       "    <tr>\n",
       "      <th>Period</th>\n",
       "      <th></th>\n",
       "      <th></th>\n",
       "    </tr>\n",
       "  </thead>\n",
       "  <tbody>\n",
       "    <tr>\n",
       "      <th>2019-03</th>\n",
       "      <td>0.520662</td>\n",
       "      <td>0.697538</td>\n",
       "    </tr>\n",
       "    <tr>\n",
       "      <th>2019-04</th>\n",
       "      <td>0.501015</td>\n",
       "      <td>0.613541</td>\n",
       "    </tr>\n",
       "    <tr>\n",
       "      <th>2019-05</th>\n",
       "      <td>0.530901</td>\n",
       "      <td>0.542636</td>\n",
       "    </tr>\n",
       "    <tr>\n",
       "      <th>2019-06</th>\n",
       "      <td>0.511841</td>\n",
       "      <td>0.536323</td>\n",
       "    </tr>\n",
       "    <tr>\n",
       "      <th>2019-07</th>\n",
       "      <td>0.479721</td>\n",
       "      <td>0.500520</td>\n",
       "    </tr>\n",
       "    <tr>\n",
       "      <th>2019-08</th>\n",
       "      <td>0.536806</td>\n",
       "      <td>0.464755</td>\n",
       "    </tr>\n",
       "    <tr>\n",
       "      <th>2019-09</th>\n",
       "      <td>0.563679</td>\n",
       "      <td>0.559615</td>\n",
       "    </tr>\n",
       "    <tr>\n",
       "      <th>2019-10</th>\n",
       "      <td>0.561797</td>\n",
       "      <td>0.569022</td>\n",
       "    </tr>\n",
       "    <tr>\n",
       "      <th>2019-11</th>\n",
       "      <td>0.575253</td>\n",
       "      <td>0.560507</td>\n",
       "    </tr>\n",
       "    <tr>\n",
       "      <th>2019-12</th>\n",
       "      <td>0.583862</td>\n",
       "      <td>0.587575</td>\n",
       "    </tr>\n",
       "    <tr>\n",
       "      <th>2020-01</th>\n",
       "      <td>0.604709</td>\n",
       "      <td>0.608402</td>\n",
       "    </tr>\n",
       "    <tr>\n",
       "      <th>2020-02</th>\n",
       "      <td>0.601894</td>\n",
       "      <td>0.609930</td>\n",
       "    </tr>\n",
       "  </tbody>\n",
       "</table>\n",
       "</div>"
      ],
      "text/plain": [
       "         available_feb  available_mar\n",
       "Period                               \n",
       "2019-03       0.520662       0.697538\n",
       "2019-04       0.501015       0.613541\n",
       "2019-05       0.530901       0.542636\n",
       "2019-06       0.511841       0.536323\n",
       "2019-07       0.479721       0.500520\n",
       "2019-08       0.536806       0.464755\n",
       "2019-09       0.563679       0.559615\n",
       "2019-10       0.561797       0.569022\n",
       "2019-11       0.575253       0.560507\n",
       "2019-12       0.583862       0.587575\n",
       "2020-01       0.604709       0.608402\n",
       "2020-02       0.601894       0.609930"
      ]
     },
     "execution_count": 19,
     "metadata": {},
     "output_type": "execute_result"
    }
   ],
   "source": [
    "for col in available.columns:\n",
    "    available[col]=1-(available[col]/df.groupby(['Period']).listing_id.count())\n",
    "available"
   ]
  },
  {
   "cell_type": "code",
   "execution_count": 20,
   "metadata": {},
   "outputs": [
    {
     "data": {
      "text/html": [
       "<div>\n",
       "<style scoped>\n",
       "    .dataframe tbody tr th:only-of-type {\n",
       "        vertical-align: middle;\n",
       "    }\n",
       "\n",
       "    .dataframe tbody tr th {\n",
       "        vertical-align: top;\n",
       "    }\n",
       "\n",
       "    .dataframe thead th {\n",
       "        text-align: right;\n",
       "    }\n",
       "</style>\n",
       "<table border=\"1\" class=\"dataframe\">\n",
       "  <thead>\n",
       "    <tr style=\"text-align: right;\">\n",
       "      <th></th>\n",
       "      <th>Period</th>\n",
       "      <th>available_feb</th>\n",
       "      <th>available_mar</th>\n",
       "    </tr>\n",
       "  </thead>\n",
       "  <tbody>\n",
       "    <tr>\n",
       "      <th>0</th>\n",
       "      <td>2019-03</td>\n",
       "      <td>0.520662</td>\n",
       "      <td>0.697538</td>\n",
       "    </tr>\n",
       "    <tr>\n",
       "      <th>1</th>\n",
       "      <td>2019-04</td>\n",
       "      <td>0.501015</td>\n",
       "      <td>0.613541</td>\n",
       "    </tr>\n",
       "    <tr>\n",
       "      <th>2</th>\n",
       "      <td>2019-05</td>\n",
       "      <td>0.530901</td>\n",
       "      <td>0.542636</td>\n",
       "    </tr>\n",
       "    <tr>\n",
       "      <th>3</th>\n",
       "      <td>2019-06</td>\n",
       "      <td>0.511841</td>\n",
       "      <td>0.536323</td>\n",
       "    </tr>\n",
       "    <tr>\n",
       "      <th>4</th>\n",
       "      <td>2019-07</td>\n",
       "      <td>0.479721</td>\n",
       "      <td>0.500520</td>\n",
       "    </tr>\n",
       "    <tr>\n",
       "      <th>5</th>\n",
       "      <td>2019-08</td>\n",
       "      <td>0.536806</td>\n",
       "      <td>0.464755</td>\n",
       "    </tr>\n",
       "    <tr>\n",
       "      <th>6</th>\n",
       "      <td>2019-09</td>\n",
       "      <td>0.563679</td>\n",
       "      <td>0.559615</td>\n",
       "    </tr>\n",
       "    <tr>\n",
       "      <th>7</th>\n",
       "      <td>2019-10</td>\n",
       "      <td>0.561797</td>\n",
       "      <td>0.569022</td>\n",
       "    </tr>\n",
       "    <tr>\n",
       "      <th>8</th>\n",
       "      <td>2019-11</td>\n",
       "      <td>0.575253</td>\n",
       "      <td>0.560507</td>\n",
       "    </tr>\n",
       "    <tr>\n",
       "      <th>9</th>\n",
       "      <td>2019-12</td>\n",
       "      <td>0.583862</td>\n",
       "      <td>0.587575</td>\n",
       "    </tr>\n",
       "    <tr>\n",
       "      <th>10</th>\n",
       "      <td>2020-01</td>\n",
       "      <td>0.604709</td>\n",
       "      <td>0.608402</td>\n",
       "    </tr>\n",
       "    <tr>\n",
       "      <th>11</th>\n",
       "      <td>2020-02</td>\n",
       "      <td>0.601894</td>\n",
       "      <td>0.609930</td>\n",
       "    </tr>\n",
       "  </tbody>\n",
       "</table>\n",
       "</div>"
      ],
      "text/plain": [
       "     Period  available_feb  available_mar\n",
       "0   2019-03       0.520662       0.697538\n",
       "1   2019-04       0.501015       0.613541\n",
       "2   2019-05       0.530901       0.542636\n",
       "3   2019-06       0.511841       0.536323\n",
       "4   2019-07       0.479721       0.500520\n",
       "5   2019-08       0.536806       0.464755\n",
       "6   2019-09       0.563679       0.559615\n",
       "7   2019-10       0.561797       0.569022\n",
       "8   2019-11       0.575253       0.560507\n",
       "9   2019-12       0.583862       0.587575\n",
       "10  2020-01       0.604709       0.608402\n",
       "11  2020-02       0.601894       0.609930"
      ]
     },
     "execution_count": 20,
     "metadata": {},
     "output_type": "execute_result"
    }
   ],
   "source": [
    "melted = available.reset_index(level=0)\n",
    "melted"
   ]
  },
  {
   "cell_type": "code",
   "execution_count": 21,
   "metadata": {},
   "outputs": [],
   "source": [
    "melted.to_csv('ocup_madrid_2019.csv', index=False)"
   ]
  },
  {
   "cell_type": "markdown",
   "metadata": {},
   "source": [
    "**Visualising data**"
   ]
  },
  {
   "cell_type": "code",
   "execution_count": 12,
   "metadata": {},
   "outputs": [
    {
     "data": {
      "image/png": "[encoded data removed]",
      "text/plain": [
       "<Figure size 1296x720 with 1 Axes>"
      ]
     },
     "metadata": {
      "needs_background": "light"
     },
     "output_type": "display_data"
    }
   ],
   "source": [
    "ax = available.plot(kind='bar',legend=True, figsize=(18,10), fontsize=16) #ocupation rate for each period with data from feb and from march\n",
    "ax.set_xlabel('',fontsize=18)\n",
    "ax.set_ylabel('',fontsize=22)\n",
    "ax.legend(['02/06/2019','03/08/2019'],fontsize=16)\n",
    "plt.yticks(ticks=[0.0,0.1,0.2,0.3,0.4,0.5,0.6,0.7],labels=['0%','10%','20%','30%','40%','50%','60%','70%'])\n",
    "plt.title('Bookings for each period according to data from February and March',fontsize=22);"
   ]
  },
  {
   "cell_type": "markdown",
   "metadata": {},
   "source": [
    "> Conclusion: We can see that the booking percent drops from Febraury to March when consider the periods until September. This means that some reservations were canceled. This can be due to the fact that Madrid entered in quarantine and all tourism activities were cancelled so people started to cancell their reservations for the following months."
   ]
  },
  {
   "cell_type": "markdown",
   "metadata": {},
   "source": [
    "**Analysing data**"
   ]
  },
  {
   "cell_type": "markdown",
   "metadata": {},
   "source": [
    "In the apt data frames there is information for the availability of each property for the next 365 days, let's see how this changes."
   ]
  },
  {
   "cell_type": "code",
   "execution_count": 71,
   "metadata": {},
   "outputs": [],
   "source": [
    "apt = apt_feb.merge(apt_mar, on=['id'], suffixes=['_feb','_mar'])"
   ]
  },
  {
   "cell_type": "code",
   "execution_count": 72,
   "metadata": {},
   "outputs": [
    {
     "data": {
      "text/html": [
       "<div>\n",
       "<style scoped>\n",
       "    .dataframe tbody tr th:only-of-type {\n",
       "        vertical-align: middle;\n",
       "    }\n",
       "\n",
       "    .dataframe tbody tr th {\n",
       "        vertical-align: top;\n",
       "    }\n",
       "\n",
       "    .dataframe thead th {\n",
       "        text-align: right;\n",
       "    }\n",
       "</style>\n",
       "<table border=\"1\" class=\"dataframe\">\n",
       "  <thead>\n",
       "    <tr style=\"text-align: right;\">\n",
       "      <th></th>\n",
       "      <th>id</th>\n",
       "      <th>name_feb</th>\n",
       "      <th>host_id_feb</th>\n",
       "      <th>host_name_feb</th>\n",
       "      <th>neighbourhood_group_feb</th>\n",
       "      <th>neighbourhood_feb</th>\n",
       "      <th>latitude_feb</th>\n",
       "      <th>longitude_feb</th>\n",
       "      <th>room_type_feb</th>\n",
       "      <th>price_feb</th>\n",
       "      <th>...</th>\n",
       "      <th>latitude_mar</th>\n",
       "      <th>longitude_mar</th>\n",
       "      <th>room_type_mar</th>\n",
       "      <th>price_mar</th>\n",
       "      <th>minimum_nights_mar</th>\n",
       "      <th>number_of_reviews_mar</th>\n",
       "      <th>last_review_mar</th>\n",
       "      <th>reviews_per_month_mar</th>\n",
       "      <th>calculated_host_listings_count_mar</th>\n",
       "      <th>availability_365_mar</th>\n",
       "    </tr>\n",
       "  </thead>\n",
       "  <tbody>\n",
       "    <tr>\n",
       "      <th>0</th>\n",
       "      <td>6369</td>\n",
       "      <td>Rooftop terrace room ,  ensuite bathroom</td>\n",
       "      <td>13660</td>\n",
       "      <td>Simon</td>\n",
       "      <td>Chamartín</td>\n",
       "      <td>Hispanoamérica</td>\n",
       "      <td>40.45724</td>\n",
       "      <td>-3.67688</td>\n",
       "      <td>Private room</td>\n",
       "      <td>70</td>\n",
       "      <td>...</td>\n",
       "      <td>40.45724</td>\n",
       "      <td>-3.67688</td>\n",
       "      <td>Private room</td>\n",
       "      <td>70</td>\n",
       "      <td>1</td>\n",
       "      <td>75</td>\n",
       "      <td>2020-02-29</td>\n",
       "      <td>0.62</td>\n",
       "      <td>1</td>\n",
       "      <td>76</td>\n",
       "    </tr>\n",
       "    <tr>\n",
       "      <th>1</th>\n",
       "      <td>21853</td>\n",
       "      <td>Bright and airy room</td>\n",
       "      <td>83531</td>\n",
       "      <td>Abdel</td>\n",
       "      <td>Latina</td>\n",
       "      <td>Cármenes</td>\n",
       "      <td>40.40341</td>\n",
       "      <td>-3.74084</td>\n",
       "      <td>Private room</td>\n",
       "      <td>17</td>\n",
       "      <td>...</td>\n",
       "      <td>40.40341</td>\n",
       "      <td>-3.74084</td>\n",
       "      <td>Private room</td>\n",
       "      <td>30</td>\n",
       "      <td>4</td>\n",
       "      <td>33</td>\n",
       "      <td>2018-07-15</td>\n",
       "      <td>0.50</td>\n",
       "      <td>2</td>\n",
       "      <td>228</td>\n",
       "    </tr>\n",
       "    <tr>\n",
       "      <th>2</th>\n",
       "      <td>23001</td>\n",
       "      <td>Apartmento Arganzuela- Madrid Rio</td>\n",
       "      <td>82175</td>\n",
       "      <td>Jesus</td>\n",
       "      <td>Arganzuela</td>\n",
       "      <td>Legazpi</td>\n",
       "      <td>40.38695</td>\n",
       "      <td>-3.69304</td>\n",
       "      <td>Entire home/apt</td>\n",
       "      <td>50</td>\n",
       "      <td>...</td>\n",
       "      <td>40.38695</td>\n",
       "      <td>-3.69304</td>\n",
       "      <td>Entire home/apt</td>\n",
       "      <td>50</td>\n",
       "      <td>15</td>\n",
       "      <td>0</td>\n",
       "      <td>NaN</td>\n",
       "      <td>NaN</td>\n",
       "      <td>6</td>\n",
       "      <td>277</td>\n",
       "    </tr>\n",
       "    <tr>\n",
       "      <th>3</th>\n",
       "      <td>24805</td>\n",
       "      <td>Gran Via Studio Madrid</td>\n",
       "      <td>101471</td>\n",
       "      <td>Iraido</td>\n",
       "      <td>Centro</td>\n",
       "      <td>Universidad</td>\n",
       "      <td>40.42202</td>\n",
       "      <td>-3.70395</td>\n",
       "      <td>Entire home/apt</td>\n",
       "      <td>89</td>\n",
       "      <td>...</td>\n",
       "      <td>40.42202</td>\n",
       "      <td>-3.70395</td>\n",
       "      <td>Entire home/apt</td>\n",
       "      <td>89</td>\n",
       "      <td>4</td>\n",
       "      <td>10</td>\n",
       "      <td>2020-03-01</td>\n",
       "      <td>0.15</td>\n",
       "      <td>1</td>\n",
       "      <td>335</td>\n",
       "    </tr>\n",
       "    <tr>\n",
       "      <th>4</th>\n",
       "      <td>24836</td>\n",
       "      <td>Select the Madrid more \"cool\".</td>\n",
       "      <td>101653</td>\n",
       "      <td>Tenty</td>\n",
       "      <td>Centro</td>\n",
       "      <td>Justicia</td>\n",
       "      <td>40.41995</td>\n",
       "      <td>-3.69764</td>\n",
       "      <td>Entire home/apt</td>\n",
       "      <td>115</td>\n",
       "      <td>...</td>\n",
       "      <td>40.41995</td>\n",
       "      <td>-3.69764</td>\n",
       "      <td>Entire home/apt</td>\n",
       "      <td>115</td>\n",
       "      <td>3</td>\n",
       "      <td>68</td>\n",
       "      <td>2020-01-26</td>\n",
       "      <td>0.64</td>\n",
       "      <td>1</td>\n",
       "      <td>327</td>\n",
       "    </tr>\n",
       "  </tbody>\n",
       "</table>\n",
       "<p>5 rows × 31 columns</p>\n",
       "</div>"
      ],
      "text/plain": [
       "      id                                  name_feb  host_id_feb host_name_feb  \\\n",
       "0   6369  Rooftop terrace room ,  ensuite bathroom        13660         Simon   \n",
       "1  21853                      Bright and airy room        83531         Abdel   \n",
       "2  23001         Apartmento Arganzuela- Madrid Rio        82175         Jesus   \n",
       "3  24805                    Gran Via Studio Madrid       101471        Iraido   \n",
       "4  24836            Select the Madrid more \"cool\".       101653         Tenty   \n",
       "\n",
       "  neighbourhood_group_feb neighbourhood_feb  latitude_feb  longitude_feb  \\\n",
       "0               Chamartín    Hispanoamérica      40.45724       -3.67688   \n",
       "1                  Latina          Cármenes      40.40341       -3.74084   \n",
       "2              Arganzuela           Legazpi      40.38695       -3.69304   \n",
       "3                  Centro       Universidad      40.42202       -3.70395   \n",
       "4                  Centro          Justicia      40.41995       -3.69764   \n",
       "\n",
       "     room_type_feb  price_feb  ...  latitude_mar  longitude_mar  \\\n",
       "0     Private room         70  ...      40.45724       -3.67688   \n",
       "1     Private room         17  ...      40.40341       -3.74084   \n",
       "2  Entire home/apt         50  ...      40.38695       -3.69304   \n",
       "3  Entire home/apt         89  ...      40.42202       -3.70395   \n",
       "4  Entire home/apt        115  ...      40.41995       -3.69764   \n",
       "\n",
       "     room_type_mar  price_mar  minimum_nights_mar  number_of_reviews_mar  \\\n",
       "0     Private room         70                   1                     75   \n",
       "1     Private room         30                   4                     33   \n",
       "2  Entire home/apt         50                  15                      0   \n",
       "3  Entire home/apt         89                   4                     10   \n",
       "4  Entire home/apt        115                   3                     68   \n",
       "\n",
       "  last_review_mar  reviews_per_month_mar calculated_host_listings_count_mar  \\\n",
       "0      2020-02-29                   0.62                                  1   \n",
       "1      2018-07-15                   0.50                                  2   \n",
       "2             NaN                    NaN                                  6   \n",
       "3      2020-03-01                   0.15                                  1   \n",
       "4      2020-01-26                   0.64                                  1   \n",
       "\n",
       "  availability_365_mar  \n",
       "0                   76  \n",
       "1                  228  \n",
       "2                  277  \n",
       "3                  335  \n",
       "4                  327  \n",
       "\n",
       "[5 rows x 31 columns]"
      ]
     },
     "execution_count": 72,
     "metadata": {},
     "output_type": "execute_result"
    }
   ],
   "source": [
    "apt.head()"
   ]
  },
  {
   "cell_type": "code",
   "execution_count": 74,
   "metadata": {},
   "outputs": [],
   "source": [
    "df2=apt[['id','availability_365_feb', 'availability_365_mar']]"
   ]
  },
  {
   "cell_type": "code",
   "execution_count": 75,
   "metadata": {},
   "outputs": [
    {
     "data": {
      "text/html": [
       "<div>\n",
       "<style scoped>\n",
       "    .dataframe tbody tr th:only-of-type {\n",
       "        vertical-align: middle;\n",
       "    }\n",
       "\n",
       "    .dataframe tbody tr th {\n",
       "        vertical-align: top;\n",
       "    }\n",
       "\n",
       "    .dataframe thead th {\n",
       "        text-align: right;\n",
       "    }\n",
       "</style>\n",
       "<table border=\"1\" class=\"dataframe\">\n",
       "  <thead>\n",
       "    <tr style=\"text-align: right;\">\n",
       "      <th></th>\n",
       "      <th>id</th>\n",
       "      <th>availability_365_feb</th>\n",
       "      <th>availability_365_mar</th>\n",
       "    </tr>\n",
       "  </thead>\n",
       "  <tbody>\n",
       "    <tr>\n",
       "      <th>0</th>\n",
       "      <td>6369</td>\n",
       "      <td>77</td>\n",
       "      <td>76</td>\n",
       "    </tr>\n",
       "    <tr>\n",
       "      <th>1</th>\n",
       "      <td>21853</td>\n",
       "      <td>200</td>\n",
       "      <td>228</td>\n",
       "    </tr>\n",
       "    <tr>\n",
       "      <th>2</th>\n",
       "      <td>23001</td>\n",
       "      <td>249</td>\n",
       "      <td>277</td>\n",
       "    </tr>\n",
       "    <tr>\n",
       "      <th>3</th>\n",
       "      <td>24805</td>\n",
       "      <td>364</td>\n",
       "      <td>335</td>\n",
       "    </tr>\n",
       "    <tr>\n",
       "      <th>4</th>\n",
       "      <td>24836</td>\n",
       "      <td>322</td>\n",
       "      <td>327</td>\n",
       "    </tr>\n",
       "  </tbody>\n",
       "</table>\n",
       "</div>"
      ],
      "text/plain": [
       "      id  availability_365_feb  availability_365_mar\n",
       "0   6369                    77                    76\n",
       "1  21853                   200                   228\n",
       "2  23001                   249                   277\n",
       "3  24805                   364                   335\n",
       "4  24836                   322                   327"
      ]
     },
     "execution_count": 75,
     "metadata": {},
     "output_type": "execute_result"
    }
   ],
   "source": [
    "df2.head()"
   ]
  },
  {
   "cell_type": "code",
   "execution_count": 81,
   "metadata": {},
   "outputs": [
    {
     "data": {
      "text/html": [
       "<div>\n",
       "<style scoped>\n",
       "    .dataframe tbody tr th:only-of-type {\n",
       "        vertical-align: middle;\n",
       "    }\n",
       "\n",
       "    .dataframe tbody tr th {\n",
       "        vertical-align: top;\n",
       "    }\n",
       "\n",
       "    .dataframe thead th {\n",
       "        text-align: right;\n",
       "    }\n",
       "</style>\n",
       "<table border=\"1\" class=\"dataframe\">\n",
       "  <thead>\n",
       "    <tr style=\"text-align: right;\">\n",
       "      <th></th>\n",
       "      <th>id</th>\n",
       "      <th>availability_365_feb</th>\n",
       "      <th>availability_365_mar</th>\n",
       "    </tr>\n",
       "  </thead>\n",
       "  <tbody>\n",
       "    <tr>\n",
       "      <th>count</th>\n",
       "      <td>2.082600e+04</td>\n",
       "      <td>20826.000000</td>\n",
       "      <td>20826.000000</td>\n",
       "    </tr>\n",
       "    <tr>\n",
       "      <th>mean</th>\n",
       "      <td>2.553337e+07</td>\n",
       "      <td>161.769951</td>\n",
       "      <td>169.082877</td>\n",
       "    </tr>\n",
       "    <tr>\n",
       "      <th>std</th>\n",
       "      <td>1.184133e+07</td>\n",
       "      <td>132.193630</td>\n",
       "      <td>134.376431</td>\n",
       "    </tr>\n",
       "    <tr>\n",
       "      <th>min</th>\n",
       "      <td>6.369000e+03</td>\n",
       "      <td>0.000000</td>\n",
       "      <td>0.000000</td>\n",
       "    </tr>\n",
       "    <tr>\n",
       "      <th>25%</th>\n",
       "      <td>1.727121e+07</td>\n",
       "      <td>31.000000</td>\n",
       "      <td>37.000000</td>\n",
       "    </tr>\n",
       "    <tr>\n",
       "      <th>50%</th>\n",
       "      <td>2.695528e+07</td>\n",
       "      <td>145.000000</td>\n",
       "      <td>159.000000</td>\n",
       "    </tr>\n",
       "    <tr>\n",
       "      <th>75%</th>\n",
       "      <td>3.521585e+07</td>\n",
       "      <td>294.000000</td>\n",
       "      <td>305.000000</td>\n",
       "    </tr>\n",
       "    <tr>\n",
       "      <th>max</th>\n",
       "      <td>4.235976e+07</td>\n",
       "      <td>365.000000</td>\n",
       "      <td>365.000000</td>\n",
       "    </tr>\n",
       "  </tbody>\n",
       "</table>\n",
       "</div>"
      ],
      "text/plain": [
       "                 id  availability_365_feb  availability_365_mar\n",
       "count  2.082600e+04          20826.000000          20826.000000\n",
       "mean   2.553337e+07            161.769951            169.082877\n",
       "std    1.184133e+07            132.193630            134.376431\n",
       "min    6.369000e+03              0.000000              0.000000\n",
       "25%    1.727121e+07             31.000000             37.000000\n",
       "50%    2.695528e+07            145.000000            159.000000\n",
       "75%    3.521585e+07            294.000000            305.000000\n",
       "max    4.235976e+07            365.000000            365.000000"
      ]
     },
     "execution_count": 81,
     "metadata": {},
     "output_type": "execute_result"
    }
   ],
   "source": [
    "df2.describe()"
   ]
  },
  {
   "cell_type": "markdown",
   "metadata": {},
   "source": [
    "The mean and the media are a little bigger in March which confirms our previous conclusion"
   ]
  },
  {
   "cell_type": "markdown",
   "metadata": {},
   "source": [
    "### Q2: How many money is Airbnb not earning due to this cancelations?"
   ]
  },
  {
   "cell_type": "markdown",
   "metadata": {},
   "source": [
    "Let's consider only the booking until september"
   ]
  },
  {
   "cell_type": "code",
   "execution_count": 83,
   "metadata": {},
   "outputs": [
    {
     "data": {
      "text/plain": [
       "(309067, 13)"
      ]
     },
     "execution_count": 83,
     "metadata": {},
     "output_type": "execute_result"
    }
   ],
   "source": [
    "#properties going from not-available to available\n",
    "des = df[ (df.date < '2020-10-01') & (df.available_feb == False) & (df.available_mar == True) ]\n",
    "des.shape"
   ]
  },
  {
   "cell_type": "code",
   "execution_count": 84,
   "metadata": {},
   "outputs": [
    {
     "data": {
      "text/plain": [
       "(160901, 13)"
      ]
     },
     "execution_count": 84,
     "metadata": {},
     "output_type": "execute_result"
    }
   ],
   "source": [
    "# properties going from available to not-available\n",
    "ocu = df[ (df.date < '2020-10-01') & (df.available_feb == True) & (df.available_mar == False) ]\n",
    "ocu.shape"
   ]
  },
  {
   "cell_type": "code",
   "execution_count": 86,
   "metadata": {},
   "outputs": [
    {
     "data": {
      "text/plain": [
       "count    309067.000000\n",
       "mean        110.736462\n",
       "std         171.761492\n",
       "min           9.000000\n",
       "25%          48.000000\n",
       "50%          75.000000\n",
       "75%         115.000000\n",
       "max        8904.000000\n",
       "Name: price_mar, dtype: float64"
      ]
     },
     "execution_count": 86,
     "metadata": {},
     "output_type": "execute_result"
    }
   ],
   "source": [
    "des['price_mar'].describe()"
   ]
  },
  {
   "cell_type": "code",
   "execution_count": 87,
   "metadata": {},
   "outputs": [
    {
     "data": {
      "text/plain": [
       "count    160901.000000\n",
       "mean        129.523483\n",
       "std         429.235837\n",
       "min           9.000000\n",
       "25%          40.000000\n",
       "50%          70.000000\n",
       "75%         110.000000\n",
       "max       10998.000000\n",
       "Name: price_mar, dtype: float64"
      ]
     },
     "execution_count": 87,
     "metadata": {},
     "output_type": "execute_result"
    }
   ],
   "source": [
    "ocu['price_mar'].describe()"
   ]
  },
  {
   "cell_type": "markdown",
   "metadata": {},
   "source": [
    "Some of this prices look wrong, but they are real! I checked that on the airbnb webpage."
   ]
  },
  {
   "cell_type": "code",
   "execution_count": 89,
   "metadata": {},
   "outputs": [
    {
     "data": {
      "text/plain": [
       "-2007679.2"
      ]
     },
     "execution_count": 89,
     "metadata": {},
     "output_type": "execute_result"
    }
   ],
   "source": [
    "(ocu['price_mar'].sum()-des['price_mar'].sum())*15/100"
   ]
  },
  {
   "cell_type": "markdown",
   "metadata": {},
   "source": [
    "> It's not clear the exact percent that goes to Airbnb but accordingly to their web page https://www.airbnb.com/help/article/1857/what-is-the-airbnb-service-fee?locale=en&_set_bev_on_new_domain=1585349580_Mzc3YjUwM2UwMjBj we can estimate a 15%"
   ]
  },
  {
   "cell_type": "markdown",
   "metadata": {},
   "source": [
    "> Conclusion: Airbnb is loosing (or not earning) $2,007,679 due to cancellations for the next 7 months"
   ]
  },
  {
   "cell_type": "markdown",
   "metadata": {},
   "source": [
    "### Q3: Which type of accomodations are the most damaged?"
   ]
  },
  {
   "cell_type": "code",
   "execution_count": 94,
   "metadata": {},
   "outputs": [
    {
     "data": {
      "text/plain": [
       "Entire home/apt    12779\n",
       "Private room        7474\n",
       "Shared room          326\n",
       "Hotel room           247\n",
       "Name: room_type_mar, dtype: int64"
      ]
     },
     "execution_count": 94,
     "metadata": {},
     "output_type": "execute_result"
    }
   ],
   "source": [
    "apt.room_type_mar.value_counts()"
   ]
  },
  {
   "cell_type": "code",
   "execution_count": 105,
   "metadata": {},
   "outputs": [],
   "source": [
    "# des\n",
    "des_type = (apt[apt.availability_365_mar > apt.availability_365_feb].room_type_mar.value_counts()/apt.room_type_mar.value_counts()).to_frame() "
   ]
  },
  {
   "cell_type": "code",
   "execution_count": 104,
   "metadata": {},
   "outputs": [],
   "source": [
    "#ocu\n",
    "ocu_type = (apt[apt.availability_365_mar < apt.availability_365_feb].room_type_mar.value_counts()/apt.room_type_mar.value_counts()).to_frame() "
   ]
  },
  {
   "cell_type": "code",
   "execution_count": 109,
   "metadata": {},
   "outputs": [
    {
     "data": {
      "text/html": [
       "<div>\n",
       "<style scoped>\n",
       "    .dataframe tbody tr th:only-of-type {\n",
       "        vertical-align: middle;\n",
       "    }\n",
       "\n",
       "    .dataframe tbody tr th {\n",
       "        vertical-align: top;\n",
       "    }\n",
       "\n",
       "    .dataframe thead th {\n",
       "        text-align: right;\n",
       "    }\n",
       "</style>\n",
       "<table border=\"1\" class=\"dataframe\">\n",
       "  <thead>\n",
       "    <tr style=\"text-align: right;\">\n",
       "      <th></th>\n",
       "      <th>room_type_mar</th>\n",
       "    </tr>\n",
       "  </thead>\n",
       "  <tbody>\n",
       "    <tr>\n",
       "      <th>Entire home/apt</th>\n",
       "      <td>0.575397</td>\n",
       "    </tr>\n",
       "    <tr>\n",
       "      <th>Private room</th>\n",
       "      <td>0.418651</td>\n",
       "    </tr>\n",
       "    <tr>\n",
       "      <th>Shared room</th>\n",
       "      <td>0.417178</td>\n",
       "    </tr>\n",
       "    <tr>\n",
       "      <th>Hotel room</th>\n",
       "      <td>0.457490</td>\n",
       "    </tr>\n",
       "  </tbody>\n",
       "</table>\n",
       "</div>"
      ],
      "text/plain": [
       "                 room_type_mar\n",
       "Entire home/apt       0.575397\n",
       "Private room          0.418651\n",
       "Shared room           0.417178\n",
       "Hotel room            0.457490"
      ]
     },
     "execution_count": 109,
     "metadata": {},
     "output_type": "execute_result"
    }
   ],
   "source": [
    "des_type"
   ]
  },
  {
   "cell_type": "code",
   "execution_count": 112,
   "metadata": {},
   "outputs": [],
   "source": [
    "type_dif = des_type.merge(ocu_type, left_index=True,right_index=True,suffixes=['_des','_ocu']) "
   ]
  },
  {
   "cell_type": "code",
   "execution_count": 113,
   "metadata": {},
   "outputs": [
    {
     "data": {
      "text/html": [
       "<div>\n",
       "<style scoped>\n",
       "    .dataframe tbody tr th:only-of-type {\n",
       "        vertical-align: middle;\n",
       "    }\n",
       "\n",
       "    .dataframe tbody tr th {\n",
       "        vertical-align: top;\n",
       "    }\n",
       "\n",
       "    .dataframe thead th {\n",
       "        text-align: right;\n",
       "    }\n",
       "</style>\n",
       "<table border=\"1\" class=\"dataframe\">\n",
       "  <thead>\n",
       "    <tr style=\"text-align: right;\">\n",
       "      <th></th>\n",
       "      <th>room_type_mar_des</th>\n",
       "      <th>room_type_mar_ocu</th>\n",
       "    </tr>\n",
       "  </thead>\n",
       "  <tbody>\n",
       "    <tr>\n",
       "      <th>Entire home/apt</th>\n",
       "      <td>0.575397</td>\n",
       "      <td>0.223883</td>\n",
       "    </tr>\n",
       "    <tr>\n",
       "      <th>Private room</th>\n",
       "      <td>0.418651</td>\n",
       "      <td>0.167514</td>\n",
       "    </tr>\n",
       "    <tr>\n",
       "      <th>Shared room</th>\n",
       "      <td>0.417178</td>\n",
       "      <td>0.153374</td>\n",
       "    </tr>\n",
       "    <tr>\n",
       "      <th>Hotel room</th>\n",
       "      <td>0.457490</td>\n",
       "      <td>0.465587</td>\n",
       "    </tr>\n",
       "  </tbody>\n",
       "</table>\n",
       "</div>"
      ],
      "text/plain": [
       "                 room_type_mar_des  room_type_mar_ocu\n",
       "Entire home/apt           0.575397           0.223883\n",
       "Private room              0.418651           0.167514\n",
       "Shared room               0.417178           0.153374\n",
       "Hotel room                0.457490           0.465587"
      ]
     },
     "execution_count": 113,
     "metadata": {},
     "output_type": "execute_result"
    }
   ],
   "source": [
    "type_dif"
   ]
  },
  {
   "cell_type": "markdown",
   "metadata": {},
   "source": [
    "**Visualising data**"
   ]
  },
  {
   "cell_type": "code",
   "execution_count": 121,
   "metadata": {},
   "outputs": [
    {
     "data": {
      "image/png": "[encoded data removed]",
      "text/plain": [
       "<Figure size 1296x720 with 1 Axes>"
      ]
     },
     "metadata": {},
     "output_type": "display_data"
    }
   ],
   "source": [
    "ax = type_dif.plot(kind='bar',legend=True, figsize=(18,10), fontsize=16,rot=0) #ocupation rate for each period with data from feb and from march\n",
    "ax.set_xlabel('',fontsize=18)\n",
    "ax.set_ylabel('',fontsize=22)\n",
    "ax.legend(['Cancellation','Booking'],fontsize=18)\n",
    "plt.yticks(ticks=[0.0,0.1,0.2,0.3,0.4,0.5,0.6],labels=['0%','10%','20%','30%','40%','50%','60%'])\n",
    "plt.title('Booking and cancellation rate for each type of acomodation',fontsize=22);"
   ]
  },
  {
   "cell_type": "markdown",
   "metadata": {},
   "source": [
    "> We see that almost 60% of the Entire home/apt went suffered cancellations while for the others types is around 40%. On the other hand, there was a 46% increase on bookings for Hotel rooms while for the other types is significative smaller."
   ]
  },
  {
   "cell_type": "code",
   "execution_count": null,
   "metadata": {},
   "outputs": [],
   "source": []
  }
 ],
 "metadata": {
  "kernelspec": {
   "display_name": "Python 3",
   "language": "python",
   "name": "python3"
  },
  "language_info": {
   "codemirror_mode": {
    "name": "ipython",
    "version": 3
   },
   "file_extension": ".py",
   "mimetype": "text/x-python",
   "name": "python",
   "nbconvert_exporter": "python",
   "pygments_lexer": "ipython3",
   "version": "3.7.3"
  }
 },
 "nbformat": 4,
 "nbformat_minor": 2
}
